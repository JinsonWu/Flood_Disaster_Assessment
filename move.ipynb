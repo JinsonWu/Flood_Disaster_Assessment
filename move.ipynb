{
 "cells": [
  {
   "cell_type": "code",
   "execution_count": 51,
   "metadata": {},
   "outputs": [],
   "source": [
    "import os\n",
    "import cv2\n",
    "import glob\n",
    "\n",
    "dir = './testing/post_msk/*'\n",
    "\n",
    "for fn in glob.glob(dir):\n",
    "    newname = fn.replace('_pre_', '_post_')\n",
    "    os.rename(fn, newname)\n"
   ]
  },
  {
   "cell_type": "code",
   "execution_count": 32,
   "metadata": {},
   "outputs": [],
   "source": [
    "dir_name = './pre_img/'\n",
    "train_dir = './training/'\n",
    "test_dir = './testing/'\n",
    "\n",
    "all_files = []\n",
    "for d in sorted(os.listdir(dir_name)):\n",
    "    all_files.append(dir_name+d)\n",
    "\n",
    "train_dicts, test_dicts = train_test_split(all_files, test_size=0.2)\n",
    "\n",
    "\n",
    "for fn in train_dicts:\n",
    "    shutil.copyfile(fn, fn.replace(dir_name, train_dir+'pre_img/'))\n",
    "    shutil.copyfile(fn.replace('/pre_img/', '/pre_msk/'), fn.replace(dir_name, train_dir+'pre_msk/'))\n",
    "    shutil.copyfile(fn.replace('/pre_img/', '/post_img/').replace('_pre_', '_post_'), fn.replace(dir_name, train_dir+'post_img/'))\n",
    "    shutil.copyfile(fn.replace('/pre_img/', '/post_msk/').replace('_pre_', '_post_'), fn.replace(dir_name, train_dir+'post_msk/'))\n",
    "\n",
    "for fn_ in test_dicts:\n",
    "    shutil.copyfile(fn_, fn_.replace(dir_name, test_dir+'pre_img/'))\n",
    "    shutil.copyfile(fn_.replace('/pre_img/', '/pre_msk/'), fn_.replace(dir_name, test_dir+'pre_msk/'))\n",
    "    shutil.copyfile(fn_.replace('/pre_img/', '/post_img/').replace('_pre_', '_post_'), fn_.replace(dir_name, test_dir+'post_img/'))\n",
    "    shutil.copyfile(fn_.replace('/pre_img/', '/post_msk/').replace('_pre_', '_post_'), fn_.replace(dir_name, test_dir+'post_msk/'))\n"
   ]
  },
  {
   "cell_type": "code",
   "execution_count": 53,
   "metadata": {},
   "outputs": [
    {
     "name": "stdout",
     "output_type": "stream",
     "text": [
      "258\n"
     ]
    }
   ],
   "source": [
    "print(len(glob.glob('./training/post_msk/*')))"
   ]
  }
 ],
 "metadata": {
  "kernelspec": {
   "display_name": "Python 3.8.8 ('base')",
   "language": "python",
   "name": "python3"
  },
  "language_info": {
   "codemirror_mode": {
    "name": "ipython",
    "version": 3
   },
   "file_extension": ".py",
   "mimetype": "text/x-python",
   "name": "python",
   "nbconvert_exporter": "python",
   "pygments_lexer": "ipython3",
   "version": "3.8.8"
  },
  "orig_nbformat": 4,
  "vscode": {
   "interpreter": {
    "hash": "ea21424c1bbbb22599168f7c57390edf513e859a061009b9e8bcf21638a12153"
   }
  }
 },
 "nbformat": 4,
 "nbformat_minor": 2
}
